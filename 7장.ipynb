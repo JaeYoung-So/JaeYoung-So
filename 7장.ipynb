{
  "nbformat": 4,
  "nbformat_minor": 0,
  "metadata": {
    "colab": {
      "name": "7장",
      "provenance": [],
      "collapsed_sections": [],
      "authorship_tag": "ABX9TyP7Hqe8hzsGOzp7h2D7FHl2",
      "include_colab_link": true
    },
    "kernelspec": {
      "name": "python3",
      "display_name": "Python 3"
    },
    "language_info": {
      "name": "python"
    }
  },
  "cells": [
    {
      "cell_type": "markdown",
      "metadata": {
        "id": "view-in-github",
        "colab_type": "text"
      },
      "source": [
        "<a href=\"https://colab.research.google.com/github/JaeYoung-So/python/blob/main/7%EC%9E%A5.ipynb\" target=\"_parent\"><img src=\"https://colab.research.google.com/assets/colab-badge.svg\" alt=\"Open In Colab\"/></a>"
      ]
    },
    {
      "cell_type": "markdown",
      "source": [
        "피보나치수열"
      ],
      "metadata": {
        "id": "Lt6NPpRcl38T"
      }
    },
    {
      "cell_type": "code",
      "execution_count": null,
      "metadata": {
        "id": "OW58kgmzcogM"
      },
      "outputs": [],
      "source": [
        "def fib(n):\n",
        "  if n>1:\n",
        "    return fib(n-1)+fib(n-2)\n",
        "  else:\n",
        "    return n"
      ]
    },
    {
      "cell_type": "code",
      "source": [
        "fib(10)"
      ],
      "metadata": {
        "colab": {
          "base_uri": "https://localhost:8080/"
        },
        "id": "JrGxBMh4f1tY",
        "outputId": "47006807-62cf-446e-e04e-5f75687c721f"
      },
      "execution_count": null,
      "outputs": [
        {
          "output_type": "execute_result",
          "data": {
            "text/plain": [
              "55"
            ]
          },
          "metadata": {},
          "execution_count": 8
        }
      ]
    },
    {
      "cell_type": "code",
      "source": [
        "fib(20)"
      ],
      "metadata": {
        "colab": {
          "base_uri": "https://localhost:8080/"
        },
        "id": "KOUeEGqqgFK8",
        "outputId": "357d8683-0724-4c23-bfe4-4867943328e9"
      },
      "execution_count": null,
      "outputs": [
        {
          "output_type": "execute_result",
          "data": {
            "text/plain": [
              "6765"
            ]
          },
          "metadata": {},
          "execution_count": 9
        }
      ]
    },
    {
      "cell_type": "code",
      "source": [
        "fib(30)"
      ],
      "metadata": {
        "colab": {
          "base_uri": "https://localhost:8080/"
        },
        "id": "ePRhJpd8gHHK",
        "outputId": "cb1bbc31-dffa-410b-ea6a-54fc44705e70"
      },
      "execution_count": null,
      "outputs": [
        {
          "output_type": "execute_result",
          "data": {
            "text/plain": [
              "832040"
            ]
          },
          "metadata": {},
          "execution_count": 10
        }
      ]
    },
    {
      "cell_type": "code",
      "source": [
        "fib(40)"
      ],
      "metadata": {
        "colab": {
          "base_uri": "https://localhost:8080/"
        },
        "id": "XmD9Na-ZgJly",
        "outputId": "2d319618-0b13-435e-f60d-98137bdaab43"
      },
      "execution_count": null,
      "outputs": [
        {
          "output_type": "execute_result",
          "data": {
            "text/plain": [
              "102334155"
            ]
          },
          "metadata": {},
          "execution_count": 11
        }
      ]
    },
    {
      "cell_type": "code",
      "source": [
        "def run_fib(n):\n",
        "  from time import perf_counter\n",
        "  start = perf_counter()\n",
        "  answer = fib(n)\n",
        "  finish = perf_counter()\n",
        "  print(\"fib(\",n,\") => \",answer,sep=\"\")\n",
        "  print(round(finish-start,4), \"seconds\")"
      ],
      "metadata": {
        "id": "ZZYNAxecgS-B"
      },
      "execution_count": null,
      "outputs": []
    },
    {
      "cell_type": "code",
      "source": [
        "run_fib(10)"
      ],
      "metadata": {
        "colab": {
          "base_uri": "https://localhost:8080/"
        },
        "id": "3TOAOgSZgw6Y",
        "outputId": "4cd06d61-6c1c-45c2-d42a-757a67ca281b"
      },
      "execution_count": null,
      "outputs": [
        {
          "output_type": "stream",
          "name": "stdout",
          "text": [
            "fib(10) => 55\n",
            "0.0 seconds\n"
          ]
        }
      ]
    },
    {
      "cell_type": "code",
      "source": [
        "def fib(n):\n",
        "  if n>1:\n",
        "    i = 2\n",
        "    a,b, = 0,1\n",
        "    while i <= n:\n",
        "      a,b = b, a+b\n",
        "      i+=1\n",
        "    return b\n",
        "  else:\n",
        "    return n"
      ],
      "metadata": {
        "id": "rMNiEpWLhfRB"
      },
      "execution_count": null,
      "outputs": []
    },
    {
      "cell_type": "code",
      "source": [
        "fib(40)"
      ],
      "metadata": {
        "colab": {
          "base_uri": "https://localhost:8080/"
        },
        "id": "NzvsEPWKhuco",
        "outputId": "6ffed41e-4dba-408f-b53b-9e410ef431d6"
      },
      "execution_count": null,
      "outputs": [
        {
          "output_type": "execute_result",
          "data": {
            "text/plain": [
              "102334155"
            ]
          },
          "metadata": {},
          "execution_count": 23
        }
      ]
    },
    {
      "cell_type": "code",
      "source": [
        "def fib(n):\n",
        "  if n>1:\n",
        "    a,b, = 0,1\n",
        "    for _ in range(2,n+1):\n",
        "      a,b = b, a+b\n",
        "    return b\n",
        "  else:\n",
        "    return n"
      ],
      "metadata": {
        "id": "e5x5rt6wiKue"
      },
      "execution_count": null,
      "outputs": []
    },
    {
      "cell_type": "code",
      "source": [
        "fib(40)"
      ],
      "metadata": {
        "colab": {
          "base_uri": "https://localhost:8080/"
        },
        "id": "auF2FBstiYYK",
        "outputId": "4cebeaa5-8ae1-4a37-e364-bfd7095defa7"
      },
      "execution_count": null,
      "outputs": [
        {
          "output_type": "execute_result",
          "data": {
            "text/plain": [
              "102334155"
            ]
          },
          "metadata": {},
          "execution_count": 25
        }
      ]
    },
    {
      "cell_type": "code",
      "source": [
        "def fibseq(n):\n",
        "  fibs = [0,1]\n",
        "  for i in range(2,n+1):\n",
        "    fibs.append(fibs[i-1]+fibs[i-2])\n",
        "  return fibs"
      ],
      "metadata": {
        "id": "OX9CIixiif21"
      },
      "execution_count": null,
      "outputs": []
    },
    {
      "cell_type": "code",
      "source": [
        "fibseq(15)"
      ],
      "metadata": {
        "colab": {
          "base_uri": "https://localhost:8080/"
        },
        "id": "81GrIWlOi4gY",
        "outputId": "4d6df7cd-9644-4f10-88c5-ced5f90bca8b"
      },
      "execution_count": null,
      "outputs": [
        {
          "output_type": "execute_result",
          "data": {
            "text/plain": [
              "[0, 1, 1, 2, 3, 5, 8, 13, 21, 34, 55, 89, 144, 233, 377, 610]"
            ]
          },
          "metadata": {},
          "execution_count": 29
        }
      ]
    },
    {
      "cell_type": "code",
      "source": [
        "def fib(n):\n",
        "  return fibseq(n)[-1]"
      ],
      "metadata": {
        "id": "SATK8rddjG5P"
      },
      "execution_count": null,
      "outputs": []
    },
    {
      "cell_type": "code",
      "source": [
        "fib(10)"
      ],
      "metadata": {
        "colab": {
          "base_uri": "https://localhost:8080/"
        },
        "id": "BWnZ1H79jQhI",
        "outputId": "3feb8046-4196-4d9c-8544-728919c5726a"
      },
      "execution_count": null,
      "outputs": [
        {
          "output_type": "execute_result",
          "data": {
            "text/plain": [
              "55"
            ]
          },
          "metadata": {},
          "execution_count": 31
        }
      ]
    },
    {
      "cell_type": "code",
      "source": [
        "def fib(n):\n",
        "  fib1 , fib2 = 1, 0\n",
        "  if n > 1:\n",
        "    i = 2\n",
        "    while i <= n:\n",
        "      fib2, fib1 = fib1, fib1+fib2\n",
        "      i+=1\n",
        "    return fib1\n",
        "  else:\n",
        "    return n"
      ],
      "metadata": {
        "id": "NljA4W0xj5A-"
      },
      "execution_count": null,
      "outputs": []
    },
    {
      "cell_type": "code",
      "source": [
        "fib(7)"
      ],
      "metadata": {
        "colab": {
          "base_uri": "https://localhost:8080/"
        },
        "id": "s7-lHyMOlHkM",
        "outputId": "536e19c7-4bf6-499c-949f-a095f7d216e1"
      },
      "execution_count": null,
      "outputs": [
        {
          "output_type": "execute_result",
          "data": {
            "text/plain": [
              "13"
            ]
          },
          "metadata": {},
          "execution_count": 4
        }
      ]
    },
    {
      "cell_type": "markdown",
      "source": [
        "<조합>"
      ],
      "metadata": {
        "id": "vU2D7pZAlyUG"
      }
    },
    {
      "cell_type": "code",
      "source": [
        "def comb(n,r):\n",
        "  if r != 0 and r != n:\n",
        "    return comb(n-1,r-1) + comb(n-1,r)\n",
        "  else:\n",
        "    return 1"
      ],
      "metadata": {
        "id": "bQsUVKUUlwE6"
      },
      "execution_count": null,
      "outputs": []
    },
    {
      "cell_type": "code",
      "source": [
        "comb(10,3)"
      ],
      "metadata": {
        "colab": {
          "base_uri": "https://localhost:8080/"
        },
        "id": "ljRXgZDomLlD",
        "outputId": "6b5221a8-6151-428d-e404-6da1bd4b199d"
      },
      "execution_count": null,
      "outputs": [
        {
          "output_type": "execute_result",
          "data": {
            "text/plain": [
              "120"
            ]
          },
          "metadata": {},
          "execution_count": 37
        }
      ]
    },
    {
      "cell_type": "code",
      "source": [
        "comb(30,10)"
      ],
      "metadata": {
        "colab": {
          "base_uri": "https://localhost:8080/"
        },
        "id": "DkYE2_F4mR9K",
        "outputId": "3b9a415c-c216-4cdb-fb62-dd461fdf8d6f"
      },
      "execution_count": null,
      "outputs": [
        {
          "output_type": "execute_result",
          "data": {
            "text/plain": [
              "30045015"
            ]
          },
          "metadata": {},
          "execution_count": 38
        }
      ]
    },
    {
      "cell_type": "code",
      "source": [
        "combdict = {}\n",
        "def comb(n,r):\n",
        "  if r != 0 and r != n:\n",
        "      if combdict.get((n,r)) == None:\n",
        "        combdict[(n,r)] = comb(n-1,r-1)+comb(n-1,r)\n",
        "      return combdict[(n,r)]\n",
        "  else:\n",
        "    return 1"
      ],
      "metadata": {
        "id": "IMlkgXvPpfUR"
      },
      "execution_count": null,
      "outputs": []
    },
    {
      "cell_type": "code",
      "source": [
        "comb(10,3)"
      ],
      "metadata": {
        "colab": {
          "base_uri": "https://localhost:8080/"
        },
        "id": "1nXwHbZ3qMsh",
        "outputId": "602b477b-c53d-4fd9-c1b9-5419b0a1d929"
      },
      "execution_count": null,
      "outputs": [
        {
          "output_type": "execute_result",
          "data": {
            "text/plain": [
              "120"
            ]
          },
          "metadata": {},
          "execution_count": 66
        }
      ]
    },
    {
      "cell_type": "code",
      "source": [
        "comb(30,10)"
      ],
      "metadata": {
        "colab": {
          "base_uri": "https://localhost:8080/"
        },
        "id": "PveQNtaOqOUo",
        "outputId": "30f6c4bf-5b65-4957-978e-49c780d62524"
      },
      "execution_count": null,
      "outputs": [
        {
          "output_type": "execute_result",
          "data": {
            "text/plain": [
              "30045015"
            ]
          },
          "metadata": {},
          "execution_count": 65
        }
      ]
    },
    {
      "cell_type": "code",
      "source": [
        "def comb_pascal(n,r):\n",
        "  row0 = [1 for _ in range(r+1)]\n",
        "  matrix = [row0] + [[1] for _ in range(n-r)]\n",
        "  for i in range(1, n-r+1):\n",
        "    for j in range(1, r+1):\n",
        "      newvalue = matrix[i][j-1] + matrix[i-1][j]\n",
        "      matrix[i].append(newvalue)\n",
        "  return matrix[n-r][r]"
      ],
      "metadata": {
        "id": "TuPWdi5lmYAI"
      },
      "execution_count": null,
      "outputs": []
    },
    {
      "cell_type": "code",
      "source": [
        "comb_pascal(10,3)"
      ],
      "metadata": {
        "colab": {
          "base_uri": "https://localhost:8080/"
        },
        "id": "oZDW1J99nmHb",
        "outputId": "321c3ca4-482b-43fb-98a5-7f45c0e35463"
      },
      "execution_count": null,
      "outputs": [
        {
          "output_type": "execute_result",
          "data": {
            "text/plain": [
              "120"
            ]
          },
          "metadata": {},
          "execution_count": 74
        }
      ]
    },
    {
      "cell_type": "code",
      "source": [
        "comb_pascal(30,10)"
      ],
      "metadata": {
        "colab": {
          "base_uri": "https://localhost:8080/"
        },
        "id": "i875K-kLrqZ7",
        "outputId": "f675580e-d12c-4813-8059-45ac407eac34"
      },
      "execution_count": null,
      "outputs": [
        {
          "output_type": "execute_result",
          "data": {
            "text/plain": [
              "30045015"
            ]
          },
          "metadata": {},
          "execution_count": 75
        }
      ]
    },
    {
      "cell_type": "code",
      "source": [
        "def comb_pascal(n,r):\n",
        "  vector = [1 for _ in range(r+1)]\n",
        "  for _ in range(1, n-r+1):\n",
        "    for j in range(1, r+1):\n",
        "      vector[j] = vector[j-1]+vector[j]\n",
        "  return vector[r]"
      ],
      "metadata": {
        "id": "k2jyePZPsdpZ"
      },
      "execution_count": null,
      "outputs": []
    },
    {
      "cell_type": "code",
      "source": [
        "comb_pascal(30,10)"
      ],
      "metadata": {
        "colab": {
          "base_uri": "https://localhost:8080/"
        },
        "id": "efSWiIQqsv33",
        "outputId": "b22a205a-e78b-4645-e6bb-f77e1a9110e8"
      },
      "execution_count": null,
      "outputs": [
        {
          "output_type": "execute_result",
          "data": {
            "text/plain": [
              "30045015"
            ]
          },
          "metadata": {},
          "execution_count": 79
        }
      ]
    },
    {
      "cell_type": "markdown",
      "source": [
        "하노이의 탑"
      ],
      "metadata": {
        "id": "oD_hasZItByr"
      }
    },
    {
      "cell_type": "code",
      "source": [
        "def tower_of_hanoi(n, source, destin, temp):\n",
        "  if n>1:\n",
        "    tower_of_hanoi(n-1,source, temp, destin)\n",
        "    print(\"Move a disk from\", source,\"to\",destin)\n",
        "    tower_of_hanoi(n-1,temp,destin,source)\n",
        "  else:\n",
        "    print(\"Move a disk from\",source,\"to\",destin)"
      ],
      "metadata": {
        "id": "QRyeuB8stEsq"
      },
      "execution_count": null,
      "outputs": []
    },
    {
      "cell_type": "code",
      "source": [
        "tower_of_hanoi(3,\"A\",\"C\",\"B\")"
      ],
      "metadata": {
        "colab": {
          "base_uri": "https://localhost:8080/"
        },
        "id": "0DB4WCTstoUh",
        "outputId": "cd77d0e6-f999-40a1-efec-117fa883cb55"
      },
      "execution_count": null,
      "outputs": [
        {
          "output_type": "stream",
          "name": "stdout",
          "text": [
            "Move a disk from A to C\n",
            "Move a disk from A to B\n",
            "Move a disk from C to B\n",
            "Move a disk from A to C\n",
            "Move a disk from B to A\n",
            "Move a disk from B to C\n",
            "Move a disk from A to C\n"
          ]
        }
      ]
    },
    {
      "cell_type": "code",
      "source": [
        "def hanoi(n,source,destin,temp):\n",
        "  global count\n",
        "  if n>1:\n",
        "    hanoi(n-1,source,temp,destin)\n",
        "    count += 1\n",
        "    hanoi(n-1,source,destin,source)\n",
        "  else:\n",
        "    count += 1\n",
        "\n",
        "\n",
        "for n in [4,6,8,16,24,25,26,27,28]:\n",
        "  count = 0\n",
        "  from time import perf_counter\n",
        "  start = perf_counter()\n",
        "  hanoi(n,\"A\",\"B\",\"C\")\n",
        "  finish = perf_counter()\n",
        "  cpu_time = round(finish-start,1)\n",
        "  print(n,\"disks:\",count,\"move-in\",cpu_time,\"seconds\")"
      ],
      "metadata": {
        "colab": {
          "base_uri": "https://localhost:8080/"
        },
        "id": "7bdEei-1sAwy",
        "outputId": "1a552cbf-fd51-4491-bbb3-599e09592d8e"
      },
      "execution_count": null,
      "outputs": [
        {
          "output_type": "stream",
          "name": "stdout",
          "text": [
            "4 disks: 15 move-in 0.0 seconds\n",
            "6 disks: 63 move-in 0.0 seconds\n",
            "8 disks: 255 move-in 0.0 seconds\n",
            "16 disks: 65535 move-in 0.0 seconds\n",
            "24 disks: 16777215 move-in 4.0 seconds\n",
            "25 disks: 33554431 move-in 8.2 seconds\n",
            "26 disks: 67108863 move-in 14.9 seconds\n",
            "27 disks: 134217727 move-in 29.4 seconds\n",
            "28 disks: 268435455 move-in 59.1 seconds\n"
          ]
        }
      ]
    },
    {
      "cell_type": "code",
      "source": [
        "count = 0\n",
        "def hanoi(n,source,destin,temp):\n",
        "  global count\n",
        "  if n>1:\n",
        "    hanoi(n-1,source,temp,destin)\n",
        "    count += 1\n",
        "    hanoi(n-1,source,destin,source)\n",
        "  else:\n",
        "    count += 1"
      ],
      "metadata": {
        "id": "EriYZwYIt4T7"
      },
      "execution_count": null,
      "outputs": []
    },
    {
      "cell_type": "code",
      "source": [
        "hanoi(8,\"A\",\"B\",\"C\")\n",
        "print(count)"
      ],
      "metadata": {
        "colab": {
          "base_uri": "https://localhost:8080/"
        },
        "id": "LhRKpfOevSB-",
        "outputId": "2ea4d1c7-4430-43e8-86b4-68251741aaa7"
      },
      "execution_count": null,
      "outputs": [
        {
          "output_type": "stream",
          "name": "stdout",
          "text": [
            "255\n"
          ]
        }
      ]
    },
    {
      "cell_type": "code",
      "source": [
        "def coins(n):\n",
        "  if n >= 7:\n",
        "    return 1 + min([coins(n-x) for x in[7,5,2,1]])\n",
        "  elif n >= 5:\n",
        "    return 1 + min([coins(n-x) for x in[5,2,1]])\n",
        "  elif n >= 2:\n",
        "    return 1 + min([coins(n-x) for x in[2,1]])\n",
        "  else:\n",
        "    return n"
      ],
      "metadata": {
        "id": "Hki7mjeq0KTu"
      },
      "execution_count": null,
      "outputs": []
    },
    {
      "cell_type": "code",
      "source": [
        "coins(28)"
      ],
      "metadata": {
        "colab": {
          "base_uri": "https://localhost:8080/"
        },
        "id": "gsMLS8FW2tuL",
        "outputId": "77e57bec-ee53-447e-e376-45e6053a620f"
      },
      "execution_count": null,
      "outputs": [
        {
          "output_type": "execute_result",
          "data": {
            "text/plain": [
              "4"
            ]
          },
          "metadata": {},
          "execution_count": 21
        }
      ]
    },
    {
      "cell_type": "code",
      "source": [
        "clist = []\n",
        "def coins_num(n):\n",
        "  global clist\n",
        "  clist = [None for _ in range(n+1)] #1원으로만 지급하는 방법 으로 초기 값 작성\n",
        "  return coins(n)\n",
        "\n",
        "allcoins=[7,5,2,1]\n",
        "def coins(n):\n",
        "  mycoins = [x for x in[7,5,2,1] if x <= n]\n",
        "  if n > 1:\n",
        "    if None == clist[n]:\n",
        "      clist[n] = 1 + min([coins(n-x) for x in mycoins])\n",
        "    return clist[n]\n",
        "  else:\n",
        "    return n"
      ],
      "metadata": {
        "id": "bQ81fkVn3lGg"
      },
      "execution_count": null,
      "outputs": []
    },
    {
      "cell_type": "code",
      "source": [
        "coins_num(35)"
      ],
      "metadata": {
        "colab": {
          "base_uri": "https://localhost:8080/"
        },
        "id": "WuxQS0kI42Jr",
        "outputId": "7f8705d7-5c10-4755-d3f2-da64af88f68c"
      },
      "execution_count": null,
      "outputs": [
        {
          "output_type": "execute_result",
          "data": {
            "text/plain": [
              "5"
            ]
          },
          "metadata": {},
          "execution_count": 41
        }
      ]
    },
    {
      "cell_type": "code",
      "source": [
        "ctypes = [7,5,2,1]\n",
        "def coins(n):\n",
        "  mycoins = [x for x in[7,5,2,1] if x <= n]\n",
        "  if n > 1:\n",
        "    return 1 + min([coins(n-x) for x in mycoins])\n",
        "  else:\n",
        "    return n"
      ],
      "metadata": {
        "id": "P8obLctf5GgK"
      },
      "execution_count": null,
      "outputs": []
    },
    {
      "cell_type": "code",
      "source": [
        "ctypes = [7,5,2,1]\n",
        "def coins(n):\n",
        "  mycoins = [x for x in[7,5,2,1] if x <= n]\n",
        "  if n > 1:\n",
        "    return 1 + min([coins(n-x) for x in mycoins])\n",
        "  else:\n",
        "    return n"
      ],
      "metadata": {
        "id": "026Dz0Ar6Zpn"
      },
      "execution_count": null,
      "outputs": []
    },
    {
      "cell_type": "code",
      "source": [
        "coins(25)"
      ],
      "metadata": {
        "colab": {
          "base_uri": "https://localhost:8080/"
        },
        "id": "pC5Ewdj85try",
        "outputId": "327ab896-47ea-46b3-c614-f10aa19f89b9"
      },
      "execution_count": null,
      "outputs": [
        {
          "output_type": "execute_result",
          "data": {
            "text/plain": [
              "5"
            ]
          },
          "metadata": {},
          "execution_count": 28
        }
      ]
    },
    {
      "cell_type": "code",
      "source": [
        "def coins(n):\n",
        "  clist = [0]\n",
        "  for i in range(1,n+1):\n",
        "    mycoins = [x for x in[7,5,2,1] if x <= i]\n",
        "    clist.append(1 + min([clist[i-x] for x in mycoins]))\n",
        "  return clist[n]"
      ],
      "metadata": {
        "id": "WuHev8Gsop0v"
      },
      "execution_count": null,
      "outputs": []
    },
    {
      "cell_type": "code",
      "source": [
        "coins(5)"
      ],
      "metadata": {
        "colab": {
          "base_uri": "https://localhost:8080/"
        },
        "id": "Y3g6Y2zepTs3",
        "outputId": "83e695c6-80dd-47d1-f286-5c50ba5d04b9"
      },
      "execution_count": null,
      "outputs": [
        {
          "output_type": "execute_result",
          "data": {
            "text/plain": [
              "1"
            ]
          },
          "metadata": {},
          "execution_count": 6
        }
      ]
    },
    {
      "cell_type": "code",
      "source": [
        "#p.255. 연습문제 5.11\n",
        "#시퀀스 연산 's[i:j]'"
      ],
      "metadata": {
        "id": "3bi43Jooq2sG"
      },
      "execution_count": null,
      "outputs": []
    },
    {
      "cell_type": "code",
      "source": [
        "def sublist(s, low, high):\n",
        "  if low < 0 or high < 0 or s == []:\n",
        "    return []\n",
        "  elif low > 0:\n",
        "    return sublist(s[1:],low-1,high-1)\n",
        "  elif high > 0:\n",
        "    return [s[0]]+sublist(s[1:],0,high-1)\n",
        "  else:\n",
        "    return []"
      ],
      "metadata": {
        "id": "3dzlzzOmq8q4"
      },
      "execution_count": null,
      "outputs": []
    },
    {
      "cell_type": "code",
      "source": [
        "s = [1,2,3,4,5]\n",
        "print(sublist(s,0,3))\n",
        "print(sublist(s,0,6))"
      ],
      "metadata": {
        "colab": {
          "base_uri": "https://localhost:8080/"
        },
        "id": "_DkbB4Pdsulw",
        "outputId": "2b5ab139-fa23-4100-a317-66259c924f11"
      },
      "execution_count": null,
      "outputs": [
        {
          "output_type": "stream",
          "name": "stdout",
          "text": [
            "[1, 2, 3]\n",
            "[1, 2, 3, 4, 5]\n"
          ]
        }
      ]
    },
    {
      "cell_type": "markdown",
      "source": [
        "멱집합 (powerset)은 모든 부분집합의 집합\n",
        "리스트를 집합처럼 생각해서 모든 부분집합의 어쩌구"
      ],
      "metadata": {
        "id": "q7vTFqpztYeT"
      }
    },
    {
      "cell_type": "code",
      "source": [
        "def powerlist(xs):\n",
        "  if xs ==[]:\n",
        "    return [[]]\n",
        "  else:\n",
        "    #xs[0] include pwer list = xs[1:]list\n",
        "    ps1 = powerlist(xs[1:])\n",
        "    ps0 = [[xs[0]]+ys for ys in ps1]\n",
        "    return ps0 + ps1"
      ],
      "metadata": {
        "id": "3I2N9Pastokj"
      },
      "execution_count": null,
      "outputs": []
    },
    {
      "cell_type": "code",
      "source": [
        "powerlist([1,2])"
      ],
      "metadata": {
        "colab": {
          "base_uri": "https://localhost:8080/"
        },
        "id": "aOT0GuiFuq9f",
        "outputId": "9d1a679c-82f3-4071-92fd-a7e4e3a677eb"
      },
      "execution_count": null,
      "outputs": [
        {
          "output_type": "execute_result",
          "data": {
            "text/plain": [
              "[[1, 2], [1], [2], []]"
            ]
          },
          "metadata": {},
          "execution_count": 20
        }
      ]
    },
    {
      "cell_type": "code",
      "source": [
        "def coins(n):\n",
        "  clist = [(0,{})]\n",
        "  for i in range(1,n+1):\n",
        "    mycoins = [x for x in [7,5,2,1] if x <= i]\n",
        "    clist.append( (1+min([clist[i-x][0] for x in mycoins]),{}))\n",
        "  return clist[n]\n",
        "\n",
        "#과제에 나올 내용"
      ],
      "metadata": {
        "id": "q9i78D6C3VQu"
      },
      "execution_count": 14,
      "outputs": []
    },
    {
      "cell_type": "code",
      "source": [
        "coins(12)"
      ],
      "metadata": {
        "colab": {
          "base_uri": "https://localhost:8080/"
        },
        "id": "gC9Vo95f3rK3",
        "outputId": "52677d07-4ad3-4fbb-f661-15729469de04"
      },
      "execution_count": 15,
      "outputs": [
        {
          "output_type": "execute_result",
          "data": {
            "text/plain": [
              "(2, {})"
            ]
          },
          "metadata": {},
          "execution_count": 15
        }
      ]
    }
  ]
}