{
  "nbformat": 4,
  "nbformat_minor": 0,
  "metadata": {
    "colab": {
      "name": "정렬.ipynb",
      "provenance": [],
      "authorship_tag": "ABX9TyNkpu3NqirWJhvCzbJIlgYX",
      "include_colab_link": true
    },
    "kernelspec": {
      "name": "python3",
      "display_name": "Python 3"
    },
    "language_info": {
      "name": "python"
    }
  },
  "cells": [
    {
      "cell_type": "markdown",
      "metadata": {
        "id": "view-in-github",
        "colab_type": "text"
      },
      "source": [
        "<a href=\"https://colab.research.google.com/github/JaeYoung-So/python/blob/main/%EC%A0%95%EB%A0%AC.ipynb\" target=\"_parent\"><img src=\"https://colab.research.google.com/assets/colab-badge.svg\" alt=\"Open In Colab\"/></a>"
      ]
    },
    {
      "cell_type": "code",
      "execution_count": 3,
      "metadata": {
        "colab": {
          "base_uri": "https://localhost:8080/"
        },
        "id": "eTL4WXw8sng4",
        "outputId": "29ed83e0-d7b6-44cd-8951-f85dc00a8716"
      },
      "outputs": [
        {
          "output_type": "stream",
          "name": "stdout",
          "text": [
            "[1, 2, 3, 6, 8, 12]\n"
          ]
        }
      ],
      "source": [
        "l1 = [1,2,3,8,6,12,]\n",
        "l1.sort()\n",
        "print(l1)"
      ]
    },
    {
      "cell_type": "code",
      "source": [
        "l2=[[9,3],[1,8],[5]]\n",
        "l2.sort()\n",
        "print(l2)"
      ],
      "metadata": {
        "colab": {
          "base_uri": "https://localhost:8080/"
        },
        "id": "msKKvco2uBdN",
        "outputId": "1fd8c7bb-8551-46e4-8e69-78d332fc2c4e"
      },
      "execution_count": 5,
      "outputs": [
        {
          "output_type": "stream",
          "name": "stdout",
          "text": [
            "[[1, 8], [5], [9, 3]]\n"
          ]
        }
      ]
    },
    {
      "cell_type": "code",
      "source": [
        "[9,3]>[1,8]"
      ],
      "metadata": {
        "colab": {
          "base_uri": "https://localhost:8080/"
        },
        "id": "DOcIcXyKufIN",
        "outputId": "fa2ab2e7-1183-4b5f-9f03-4917a59616b3"
      },
      "execution_count": 8,
      "outputs": [
        {
          "output_type": "execute_result",
          "data": {
            "text/plain": [
              "True"
            ]
          },
          "metadata": {},
          "execution_count": 8
        }
      ]
    },
    {
      "cell_type": "markdown",
      "source": [
        "정렬의 성질\n",
        "\n",
        "sort라는 함수가 정렬할 리스트를 받아서 정렬된 리스트를 리턴한다면\n",
        "\n",
        "리스트의 원소 개수를 유지 (정렬 전 후의 길이가 같다.)\n",
        "```\n",
        "len(xs) == lsen (sort(xs)\n",
        "```\n",
        "리스트에 원래 있던 원소가 바뀌지 않는다(더하거나 빠지는 것이 없다)\n",
        "```\n",
        "모든 x 에 대해서\n",
        "x in xs == x in sort(xs)\n",
        "```"
      ],
      "metadata": {
        "id": "CNHdyZqvuvzW"
      }
    },
    {
      "cell_type": "code",
      "source": [
        "3 < [1,8]"
      ],
      "metadata": {
        "id": "775oZAtswCyt"
      },
      "execution_count": null,
      "outputs": []
    },
    {
      "cell_type": "code",
      "source": [
        "l3 = [2,1,3,4]\n",
        "l3.sort()\n",
        "print(l3)"
      ],
      "metadata": {
        "colab": {
          "base_uri": "https://localhost:8080/"
        },
        "id": "_cKjzjzjwKpc",
        "outputId": "092f76c8-1be2-4340-f0b9-1c46b7309e4a"
      },
      "execution_count": 10,
      "outputs": [
        {
          "output_type": "stream",
          "name": "stdout",
          "text": [
            "[1, 2, 3, 4]\n"
          ]
        }
      ]
    },
    {
      "cell_type": "code",
      "source": [
        "l3 = [2,1,3,4]\n",
        "l3.sort(reverse = True)\n",
        "print(l3)"
      ],
      "metadata": {
        "colab": {
          "base_uri": "https://localhost:8080/"
        },
        "id": "dlLoERnCwVOl",
        "outputId": "8eee493c-f686-4694-8b9f-fec329fde913"
      },
      "execution_count": 11,
      "outputs": [
        {
          "output_type": "stream",
          "name": "stdout",
          "text": [
            "[4, 3, 2, 1]\n"
          ]
        }
      ]
    },
    {
      "cell_type": "code",
      "source": [
        "l3 = [2,1,3,4] #reverse 옵셔널 인자 없이 key로만 내림차순\n",
        "l3.sort(key =  lambda x: -x) #정렬 내부에서 비교할때 key 에 넘긴 함수 f로 비교 f(x1) < f(x2)\n",
        "print(l3)"
      ],
      "metadata": {
        "colab": {
          "base_uri": "https://localhost:8080/"
        },
        "id": "7sWuV-jmwhWM",
        "outputId": "ef470f03-7e97-4f7f-cbb4-fde2907ae5bc"
      },
      "execution_count": 13,
      "outputs": [
        {
          "output_type": "stream",
          "name": "stdout",
          "text": [
            "[4, 3, 2, 1]\n"
          ]
        }
      ]
    },
    {
      "cell_type": "code",
      "source": [
        "def f4(x): #빈 리스트가 +99999999 보다 작은 숫자들 보다는 뒤에 오도록 정렬시키기 위한 key 함수 정의\n",
        "  if x ==[]:\n",
        "    return 999999999999 #아주 나쁜 방법\n",
        "  return x\n",
        "\n",
        "#과제로 나옴 <<<<<<<< 중요\n",
        "\n",
        "l4 = [2,1,[],3,4]  \n",
        "l4.sort(key =  f4)#<<<<<<<<<<<<<<<<<<<<<<<<<<<<<<<이거\n",
        "print(l4)\n",
        "\n",
        "#코인 관련 과제 나옴\n"
      ],
      "metadata": {
        "colab": {
          "base_uri": "https://localhost:8080/"
        },
        "id": "8cJ6b60pxKhF",
        "outputId": "4d0989c0-250c-439b-f56e-1457254f3db1"
      },
      "execution_count": 17,
      "outputs": [
        {
          "output_type": "stream",
          "name": "stdout",
          "text": [
            "[1, 2, 3, 4, []]\n"
          ]
        }
      ]
    },
    {
      "cell_type": "code",
      "source": [
        "l5 = [('김철수',20201111,22), ('양철수',20211112,23), ('임다연',20201022,23)]\n",
        "l5.sort()\n",
        "print(l5)"
      ],
      "metadata": {
        "colab": {
          "base_uri": "https://localhost:8080/"
        },
        "id": "OxUwpNjDy0K-",
        "outputId": "4041360e-8716-4ec5-a927-c73d7d7707c5"
      },
      "execution_count": 20,
      "outputs": [
        {
          "output_type": "stream",
          "name": "stdout",
          "text": [
            "[('김철수', 20201111, 22), ('양철수', 20211112, 23), ('임다연', 20201022, 23)]\n"
          ]
        }
      ]
    },
    {
      "cell_type": "code",
      "source": [
        "l5 = [('김철수',20201111,22), ('양철수',20211112,21), ('임다반',20221022,20)]\n",
        "l5.sort(key = lambda x : x[2])\n",
        "print(l5)"
      ],
      "metadata": {
        "colab": {
          "base_uri": "https://localhost:8080/"
        },
        "id": "5XnQaT9GzmEl",
        "outputId": "f8beeb7c-a8fa-4e1e-94ea-13869a575e69"
      },
      "execution_count": 22,
      "outputs": [
        {
          "output_type": "stream",
          "name": "stdout",
          "text": [
            "[('임다연', 20201022, 20), ('양철수', 20211112, 21), ('김철수', 20201111, 22)]\n"
          ]
        }
      ]
    },
    {
      "cell_type": "code",
      "source": [
        ""
      ],
      "metadata": {
        "id": "RZuf6jyW05FW"
      },
      "execution_count": null,
      "outputs": []
    }
  ]
}